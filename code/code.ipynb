{
 "cells": [
  {
   "cell_type": "code",
   "execution_count": 1,
   "metadata": {},
   "outputs": [],
   "source": [
    "import pandas as pd\n",
    "import csv\n",
    "import os"
   ]
  },
  {
   "cell_type": "code",
   "execution_count": 2,
   "metadata": {},
   "outputs": [],
   "source": [
    "# change file extensions\n",
    "\n",
    "def changeFileExtensions(folderPath, newFileType):\n",
    "    \"\"\"This function renames all files in a folder by changing their extensions to a desired one.\n",
    "\n",
    "    Args:\n",
    "    folderPath (str): The path to the folder containing the files to be renamed.\n",
    "    newFileType (str): The new file extension (including the dot). For example: '.csv'\n",
    "    \"\"\"\n",
    "    \n",
    "    folder = os.path.expanduser(folderPath)\n",
    "    files = os.listdir(folder)\n",
    "\n",
    "    for file in files:\n",
    "        fileName, ext = os.path.splitext(file)\n",
    "        src = os.path.join(folder, file)  \n",
    "        dst = os.path.join(folder, fileName + newFileType) \n",
    "        os.rename(src, dst)\n"
   ]
  },
  {
   "cell_type": "code",
   "execution_count": 3,
   "metadata": {},
   "outputs": [],
   "source": [
    "changeFileExtensions('/home/ymatsumu/cmse890_project/code/spectra', '.csv')"
   ]
  },
  {
   "cell_type": "code",
   "execution_count": null,
   "metadata": {},
   "outputs": [],
   "source": []
  }
 ],
 "metadata": {
  "kernelspec": {
   "display_name": "test",
   "language": "python",
   "name": "python3"
  },
  "language_info": {
   "codemirror_mode": {
    "name": "ipython",
    "version": 3
   },
   "file_extension": ".py",
   "mimetype": "text/x-python",
   "name": "python",
   "nbconvert_exporter": "python",
   "pygments_lexer": "ipython3",
   "version": "3.9.18"
  }
 },
 "nbformat": 4,
 "nbformat_minor": 2
}
