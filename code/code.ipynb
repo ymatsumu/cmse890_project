{
 "cells": [
  {
   "cell_type": "code",
   "execution_count": 24,
   "metadata": {},
   "outputs": [],
   "source": [
    "import pandas as pd\n",
    "import csv"
   ]
  },
  {
   "cell_type": "code",
   "execution_count": 22,
   "metadata": {},
   "outputs": [],
   "source": [
    "# change file extensions\n",
    "import os\n",
    "\n",
    "def changeFileExtensions(folderPath, newFileType):\n",
    "    folder = os.path.expanduser(folderPath)\n",
    "    files = os.listdir(folder)\n",
    "\n",
    "    for file in files:\n",
    "        fileName, ext = os.path.splitext(file)\n",
    "        src = os.path.join(folder, file)  \n",
    "        dst = os.path.join(folder, fileName + newFileType) \n",
    "        os.rename(src, dst)\n"
   ]
  },
  {
   "cell_type": "code",
   "execution_count": 23,
   "metadata": {},
   "outputs": [],
   "source": [
    "changeFileExtensions('/home/ymatsumu/cmse890_project/code/spectra', '.csv')"
   ]
  },
  {
   "cell_type": "code",
   "execution_count": null,
   "metadata": {},
   "outputs": [],
   "source": []
  }
 ],
 "metadata": {
  "kernelspec": {
   "display_name": "test",
   "language": "python",
   "name": "python3"
  },
  "language_info": {
   "codemirror_mode": {
    "name": "ipython",
    "version": 3
   },
   "file_extension": ".py",
   "mimetype": "text/x-python",
   "name": "python",
   "nbconvert_exporter": "python",
   "pygments_lexer": "ipython3",
   "version": "3.9.18"
  }
 },
 "nbformat": 4,
 "nbformat_minor": 2
}
